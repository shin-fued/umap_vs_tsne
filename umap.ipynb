{
 "cells": [
  {
   "cell_type": "code",
   "id": "initial_id",
   "metadata": {
    "collapsed": true,
    "ExecuteTime": {
     "end_time": "2025-03-25T14:20:55.190540Z",
     "start_time": "2025-03-25T14:20:54.924176Z"
    }
   },
   "source": [
    "from numba import njit\n",
    "import pandas as pd\n",
    "from pandas.core.interchange.dataframe_protocol import DataFrame\n",
    "import numpy as np\n",
    "import scipy.optimize._minimize as minimize"
   ],
   "outputs": [],
   "execution_count": 4
  },
  {
   "metadata": {
    "ExecuteTime": {
     "end_time": "2025-03-21T14:52:03.861178Z",
     "start_time": "2025-03-21T14:52:03.836471Z"
    }
   },
   "cell_type": "code",
   "source": [
    "def bin_search(arr, func, goal, epsilon):\n",
    "    start, end = 0,len(arr)-1\n",
    "    for i in range(end+1):\n",
    "        middle = (end - start)/2\n",
    "        if goal-epsilon <= func(arr[middle]) <= goal+epsilon:\n",
    "            return middle\n",
    "        elif func(arr[middle]) < goal-epsilon:\n",
    "            start = middle+1\n",
    "        else:\n",
    "            end = middle-1"
   ],
   "id": "4a21f1efdf7af99a",
   "outputs": [],
   "execution_count": 29
  },
  {
   "metadata": {
    "ExecuteTime": {
     "end_time": "2025-03-25T14:15:31.244143Z",
     "start_time": "2025-03-25T14:15:31.241804Z"
    }
   },
   "cell_type": "code",
   "source": [
    "def find_sigma_i(x_i, x_is, p_i, k, A):\n",
    "    sig_i = np.linspace(0, 10, 100)\n",
    "    goal = np.log2(k)\n",
    "    def sig_exp(x_i, x_is, p_i, sig):\n",
    "        res = 0\n",
    "        for i in range(k):\n",
    "            res += np.exp(-(np.linalg.norm(A[x_i]-A[x_is[i]])-p_i)/sig)\n",
    "        return res\n",
    "    sig = sig_exp(x_i, x_is, p_i, sig_i)\n",
    "    return sig\n",
    "    "
   ],
   "id": "c10e84b79677abcc",
   "outputs": [],
   "execution_count": 1
  },
  {
   "metadata": {
    "ExecuteTime": {
     "end_time": "2025-03-25T14:20:24.309688Z",
     "start_time": "2025-03-25T14:20:24.296279Z"
    }
   },
   "cell_type": "code",
   "source": [
    "import numpy as np\n",
    "\n",
    "def construct_knn(A: np.ndarray, k=3):\n",
    "    \"\"\"\n",
    "    Constructs a k-NN matrix with distances.\n",
    "\n",
    "    Parameters:\n",
    "    - A (np.ndarray): Input data of shape (n_samples, n_features).\n",
    "    - k (int): Number of nearest neighbors to find.\n",
    "\n",
    "    Returns:\n",
    "    - knn_indices (np.ndarray): k-NN indices matrix of shape (n_samples, k).\n",
    "    - knn_dist_min (np.ndarray): Minimum nonzero distance for each sample.\n",
    "    \"\"\"\n",
    "    n_samples = A.shape[0]\n",
    "    knn_indices = np.zeros((n_samples, k), dtype=int)\n",
    "    knn_dist_min = np.zeros((n_samples, 1), dtype=float)  # Should store float distances\n",
    "\n",
    "    for i in range(n_samples):\n",
    "        # Compute Euclidean distances\n",
    "        distances = np.linalg.norm(A - A[i], axis=1)\n",
    "        # Sort indices by distance, excluding the first (self)\n",
    "        sorted_indices = np.argsort(distances)\n",
    "        knn_indices[i] = sorted_indices[1:k+1]  # Skip self (index 0)\n",
    "        knn_dist_min[i] = np.min(distances[sorted_indices[1:]])  # Min nonzero distance\n",
    "\n",
    "    return knn_indices, knn_dist_min\n",
    "\n",
    "# Example usage\n",
    "if __name__ == \"__main__\":\n",
    "    np.random.seed(42)\n",
    "    A = np.random.rand(10, 5)  # 10 samples, 5 features\n",
    "    knn_indices, knn_dist_min = construct_knn(A, k=3)\n",
    "    \n",
    "    print(\"K-NN Indices:\\n\", knn_indices)\n",
    "    print(\"\\nMin Nonzero Distances:\\n\", knn_dist_min)\n"
   ],
   "id": "9557d61e16f3f33",
   "outputs": [
    {
     "name": "stdout",
     "output_type": "stream",
     "text": [
      "K-NN Indices:\n",
      " [[2 9 3]\n",
      " [3 4 9]\n",
      " [0 3 9]\n",
      " [9 4 1]\n",
      " [9 7 3]\n",
      " [9 4 7]\n",
      " [7 4 8]\n",
      " [4 9 5]\n",
      " [3 7 9]\n",
      " [5 4 3]]\n",
      "\n",
      "Min Nonzero Distances:\n",
      " [[0.53446386]\n",
      " [0.61667636]\n",
      " [0.53446386]\n",
      " [0.50410142]\n",
      " [0.43618648]\n",
      " [0.22107662]\n",
      " [0.63683244]\n",
      " [0.45277956]\n",
      " [0.71387867]\n",
      " [0.22107662]]\n"
     ]
    }
   ],
   "execution_count": 2
  },
  {
   "metadata": {},
   "cell_type": "code",
   "outputs": [],
   "execution_count": null,
   "source": "",
   "id": "7e26bdfc1df3c0e6"
  },
  {
   "metadata": {
    "ExecuteTime": {
     "end_time": "2025-03-25T14:21:36.059943Z",
     "start_time": "2025-03-25T14:21:36.055340Z"
    }
   },
   "cell_type": "code",
   "source": [
    "#input in as a pandas dataframe\n",
    "def umap(data: pd.DataFrame):\n",
    "    data = data.copy().to_numpy()\n",
    "    knn_mat, knn_dist_min = construct_knn(data)\n",
    "    return knn_mat"
   ],
   "id": "91a8c6a93f634f7d",
   "outputs": [],
   "execution_count": 7
  },
  {
   "metadata": {
    "ExecuteTime": {
     "end_time": "2025-03-25T14:21:39.002285Z",
     "start_time": "2025-03-25T14:21:38.995322Z"
    }
   },
   "cell_type": "code",
   "source": [
    "df = pd.read_csv(\"diabetes.csv\")\n",
    "data = pd.DataFrame({\n",
    "    'A': [1, 2, 3, 4, 5, 6, 7, 8, 9, 10, 11, 12, 13, 14, 15, 16],\n",
    "    'B': [1, 2, 3, 4, 5, 6, 7, 8, 9, 10, 11, 12, 13, 14, 15, 16 ],\n",
    "    'C': [1, 2, 3, 4, 5, 6, 7, 8, 9, 10, 11, 12, 13, 14, 15, 16],\n",
    "})\n",
    "print(umap(data))"
   ],
   "id": "faab96c9693a0384",
   "outputs": [
    {
     "name": "stdout",
     "output_type": "stream",
     "text": [
      "[[ 1  2  3]\n",
      " [ 0  2  3]\n",
      " [ 1  3  0]\n",
      " [ 2  4  1]\n",
      " [ 3  5  2]\n",
      " [ 4  6  3]\n",
      " [ 5  7  4]\n",
      " [ 6  8  5]\n",
      " [ 7  9  6]\n",
      " [ 8 10  7]\n",
      " [ 9 11  8]\n",
      " [10 12  9]\n",
      " [11 13 10]\n",
      " [12 14 11]\n",
      " [13 15 12]\n",
      " [14 13 12]]\n"
     ]
    }
   ],
   "execution_count": 8
  },
  {
   "metadata": {
    "ExecuteTime": {
     "end_time": "2025-03-25T14:47:59.647082Z",
     "start_time": "2025-03-25T14:47:59.642157Z"
    }
   },
   "cell_type": "code",
   "source": [
    "import numpy as np\n",
    "from collections import Counter"
   ],
   "id": "13dbf1552e745dcf",
   "outputs": [],
   "execution_count": 9
  },
  {
   "metadata": {
    "ExecuteTime": {
     "end_time": "2025-03-25T14:48:09.364525Z",
     "start_time": "2025-03-25T14:48:09.359333Z"
    }
   },
   "cell_type": "code",
   "source": [
    "def euclidean_distance(point1, point2):\n",
    "    return np.sqrt(np.sum((np.array(point1) - np.array(point2))**2))\n"
   ],
   "id": "26e2fcf98ee485e5",
   "outputs": [],
   "execution_count": 10
  },
  {
   "metadata": {},
   "cell_type": "code",
   "outputs": [],
   "execution_count": null,
   "source": "",
   "id": "6cc78144891d120a"
  }
 ],
 "metadata": {
  "kernelspec": {
   "display_name": "Python 3",
   "language": "python",
   "name": "python3"
  },
  "language_info": {
   "codemirror_mode": {
    "name": "ipython",
    "version": 2
   },
   "file_extension": ".py",
   "mimetype": "text/x-python",
   "name": "python",
   "nbconvert_exporter": "python",
   "pygments_lexer": "ipython2",
   "version": "2.7.6"
  }
 },
 "nbformat": 4,
 "nbformat_minor": 5
}
