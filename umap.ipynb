{
 "cells": [
  {
   "cell_type": "code",
   "id": "initial_id",
   "metadata": {
    "collapsed": true,
    "ExecuteTime": {
     "end_time": "2025-03-19T14:20:18.563512Z",
     "start_time": "2025-03-19T14:20:18.558260Z"
    }
   },
   "source": [
    "from numba import njit\n",
    "import pandas as pd\n",
    "from pandas.core.interchange.dataframe_protocol import DataFrame\n",
    "import numpy as np\n",
    "import scipy.optimize._minimize as minimize"
   ],
   "outputs": [],
   "execution_count": 2
  },
  {
   "metadata": {},
   "cell_type": "code",
   "outputs": [],
   "execution_count": null,
   "source": [
    "def find_sigma_i(x_i, x_is, p_i, k, A):\n",
    "    sig_i = np.linspace(0, 10, 100)\n",
    "    goal = np.log2(k)\n",
    "    def sig_exp(x_i, x_is, p_i, sig):\n",
    "        res = 0\n",
    "        for i in range(k):\n",
    "            res += np.exp(-(np.linalg.norm(A[x_i]-A[x_is[i]])-p_i)/sig)\n",
    "        return res\n",
    "    "
   ],
   "id": "c10e84b79677abcc"
  },
  {
   "metadata": {
    "ExecuteTime": {
     "end_time": "2025-03-19T15:03:18.150315Z",
     "start_time": "2025-03-19T15:03:18.146192Z"
    }
   },
   "cell_type": "code",
   "source": [
    "def construct_knn(A: np.ndarray, k=3) -> np.ndarray:\n",
    "    n_samples = A.shape[0]\n",
    "    knn_mat = np.zeros((n_samples, k), dtype=int)\n",
    "    knn_dist = np.zeros((n_samples, 1), dtype=int)\n",
    "    knn_sigma = np.zeros((n_samples, 1), dtype=int)\n",
    "    for i in range(n_samples):\n",
    "        # Compute Euclidean distances\n",
    "        distances = np.linalg.norm(A - A[i], axis=1)\n",
    "        # Get sorted indices (excluding the first one, which is the point itself)\n",
    "        knn_mat[i] = np.argsort(distances)[1:k+1]\n",
    "        knn_dist[i] = distances[np.argmin(distances)]\n",
    "    return knn_mat\n",
    "    "
   ],
   "id": "9557d61e16f3f33",
   "outputs": [],
   "execution_count": 27
  },
  {
   "metadata": {},
   "cell_type": "code",
   "outputs": [],
   "execution_count": null,
   "source": "def ",
   "id": "7e26bdfc1df3c0e6"
  },
  {
   "metadata": {
    "ExecuteTime": {
     "end_time": "2025-03-19T14:53:22.553369Z",
     "start_time": "2025-03-19T14:53:22.551290Z"
    }
   },
   "cell_type": "code",
   "source": [
    "#input in as a pandas dataframe\n",
    "def umap(data: pd.DataFrame):\n",
    "    data = data.copy().to_numpy()\n",
    "    knn_mat = construct_knn(data)\n",
    "    return knn_mat"
   ],
   "id": "91a8c6a93f634f7d",
   "outputs": [],
   "execution_count": 18
  },
  {
   "metadata": {
    "ExecuteTime": {
     "end_time": "2025-03-19T15:03:21.807360Z",
     "start_time": "2025-03-19T15:03:21.799806Z"
    }
   },
   "cell_type": "code",
   "source": [
    "df = pd.read_csv(\"diabetes.csv\")\n",
    "data = pd.DataFrame({\n",
    "    'A': [1, 2, 3, 4, 5, 6, 7, 8, 9, 10, 11, 12, 13, 14, 15, 16],\n",
    "    'B': [1, 2, 3, 4, 5, 6, 7, 8, 9, 10, 11, 12, 13, 14, 15, 16 ],\n",
    "    'C': [1, 2, 3, 4, 5, 6, 7, 8, 9, 10, 11, 12, 13, 14, 15, 16],\n",
    "})\n",
    "print(umap(data))"
   ],
   "id": "faab96c9693a0384",
   "outputs": [
    {
     "name": "stdout",
     "output_type": "stream",
     "text": [
      "[[ 1  2  3]\n",
      " [ 0  2  3]\n",
      " [ 1  3  0]\n",
      " [ 2  4  1]\n",
      " [ 3  5  2]\n",
      " [ 4  6  3]\n",
      " [ 5  7  4]\n",
      " [ 6  8  5]\n",
      " [ 7  9  6]\n",
      " [ 8 10  7]\n",
      " [ 9 11  8]\n",
      " [10 12  9]\n",
      " [11 13 10]\n",
      " [12 14 11]\n",
      " [13 15 12]\n",
      " [14 13 12]]\n"
     ]
    }
   ],
   "execution_count": 28
  }
 ],
 "metadata": {
  "kernelspec": {
   "display_name": "Python 3",
   "language": "python",
   "name": "python3"
  },
  "language_info": {
   "codemirror_mode": {
    "name": "ipython",
    "version": 2
   },
   "file_extension": ".py",
   "mimetype": "text/x-python",
   "name": "python",
   "nbconvert_exporter": "python",
   "pygments_lexer": "ipython2",
   "version": "2.7.6"
  }
 },
 "nbformat": 4,
 "nbformat_minor": 5
}
