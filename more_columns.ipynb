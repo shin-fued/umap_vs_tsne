{
 "cells": [
  {
   "cell_type": "code",
   "id": "initial_id",
   "metadata": {
    "collapsed": true,
    "ExecuteTime": {
     "end_time": "2025-03-31T15:05:36.315235Z",
     "start_time": "2025-03-31T15:05:36.313920Z"
    }
   },
   "source": "import pandas as pd",
   "outputs": [],
   "execution_count": 1
  },
  {
   "metadata": {},
   "cell_type": "code",
   "outputs": [],
   "execution_count": null,
   "source": [
    "import umap\n",
    "import numpy as np\n",
    "\n",
    "perplexities = np.arange(5, 51, 5)  # Analogous to perplexity in t-SNE\n",
    "costs = []\n",
    "\n",
    "for n_neighbors in perplexities:\n",
    "    reducer = umap.UMAP(n_neighbors=n_neighbors, random_state=42)\n",
    "    embedding = reducer.fit_transform(X)\n",
    "\n",
    "    # Approximate \"cost\" using distance to original high-dimensional data\n",
    "    reconstructed = reducer.inverse_transform(embedding)\n",
    "    error = np.linalg.norm(X - reconstructed)  # Euclidean distance as cost\n",
    "    costs.append(error)"
   ],
   "id": "5a6299ce2a575859"
  }
 ],
 "metadata": {
  "kernelspec": {
   "display_name": "Python 3",
   "language": "python",
   "name": "python3"
  },
  "language_info": {
   "codemirror_mode": {
    "name": "ipython",
    "version": 2
   },
   "file_extension": ".py",
   "mimetype": "text/x-python",
   "name": "python",
   "nbconvert_exporter": "python",
   "pygments_lexer": "ipython2",
   "version": "2.7.6"
  }
 },
 "nbformat": 4,
 "nbformat_minor": 5
}
